{
  "nbformat": 4,
  "nbformat_minor": 0,
  "metadata": {
    "colab": {
      "provenance": []
    },
    "kernelspec": {
      "name": "python3",
      "display_name": "Python 3"
    },
    "language_info": {
      "name": "python"
    }
  },
  "cells": [
    {
      "cell_type": "code",
      "execution_count": 1,
      "metadata": {
        "colab": {
          "base_uri": "https://localhost:8080/"
        },
        "id": "tyD19EhpQSiR",
        "outputId": "185ba75b-43c7-45aa-d7f8-ef24a966a59c"
      },
      "outputs": [
        {
          "output_type": "execute_result",
          "data": {
            "text/plain": [
              "4"
            ]
          },
          "metadata": {},
          "execution_count": 1
        }
      ],
      "source": [
        "2+2"
      ]
    },
    {
      "cell_type": "code",
      "source": [
        "num1 = input(\"Number 1\")\n",
        "num2 = input(\"Number 2\")\n",
        "num1=int(num1)\n",
        "num2=int(num2)\n",
        "num1-num2"
      ],
      "metadata": {
        "colab": {
          "base_uri": "https://localhost:8080/"
        },
        "id": "SYoYQ2siaj4e",
        "outputId": "2215f138-d13d-42be-f855-7a3b5c14680e"
      },
      "execution_count": 15,
      "outputs": [
        {
          "name": "stdout",
          "output_type": "stream",
          "text": [
            "Number 18\n",
            "Number 210\n"
          ]
        },
        {
          "output_type": "execute_result",
          "data": {
            "text/plain": [
              "-2"
            ]
          },
          "metadata": {},
          "execution_count": 15
        }
      ]
    },
    {
      "cell_type": "code",
      "source": [
        "num3 = input(\"number 3\")\n",
        "num4 = input(\"number 4\")\n",
        "num3=str(num3)\n",
        "num4=str(num4)\n",
        "num3+num4\n",
        "\n",
        "\n"
      ],
      "metadata": {
        "id": "KgJ_uD9XbryQ"
      },
      "execution_count": null,
      "outputs": []
    },
    {
      "cell_type": "code",
      "source": [
        "num5 = input(\"number5\")\n",
        "num6 = input(\"number6\")\n",
        "num=int\n",
        "num=int\n",
        "num5*num6"
      ],
      "metadata": {
        "id": "pFELEskffc0G"
      },
      "execution_count": null,
      "outputs": []
    }
  ]
}